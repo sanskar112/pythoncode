{
 "cells": [
  {
   "cell_type": "code",
   "execution_count": 2,
   "metadata": {},
   "outputs": [
    {
     "data": {
      "text/plain": [
       "5"
      ]
     },
     "execution_count": 2,
     "metadata": {},
     "output_type": "execute_result"
    }
   ],
   "source": [
    "l=['apple','mangao','stone','graphes','oranges']\n",
    "len(l)"
   ]
  },
  {
   "cell_type": "code",
   "execution_count": 3,
   "metadata": {},
   "outputs": [
    {
     "name": "stdout",
     "output_type": "stream",
     "text": [
      "i eat all : apple\n",
      "i eat all : mangao\n",
      "i eat all : stone\n",
      "i eat all : graphes\n",
      "i eat all : oranges\n",
      "i eat all item\n"
     ]
    }
   ],
   "source": [
    "index=0\n",
    "while index<len(l)  :\n",
    "    print(\"i eat all :\",l[index])\n",
    "    index+=1\n",
    "else :\n",
    "    print(\"i eat all item\")\n",
    "   "
   ]
  },
  {
   "cell_type": "code",
   "execution_count": 7,
   "metadata": {},
   "outputs": [
    {
     "name": "stdout",
     "output_type": "stream",
     "text": [
      "i can eat: apple\n",
      "i can eat: mangao\n"
     ]
    }
   ],
   "source": [
    "index=0\n",
    "while index<=len(l) :\n",
    "    if l[index] == l[2]:\n",
    "        break \n",
    "    print(\"i can eat:\",l[index])\n",
    "    index+=1\n",
    "else :\n",
    "    print(\"i eat all item\")"
   ]
  },
  {
   "cell_type": "code",
   "execution_count": 22,
   "metadata": {},
   "outputs": [
    {
     "name": "stdout",
     "output_type": "stream",
     "text": [
      "value is  1\n",
      "value is  3\n",
      "value is  1\n",
      "value is  1\n",
      "value is  3\n",
      "value is  3\n",
      "value is  33\n"
     ]
    }
   ],
   "source": [
    "i=-1\n",
    "l=[1,2,3,4,4,4,6,1,1,3,2,2,3,33,121,324,1,2,3,4,5,4,2,4,5]\n",
    "while i < len(l) :\n",
    "    i=i+1\n",
    "    if l[i]%2 :\n",
    "        print(\"value is \",l[i])\n",
    "    else :\n",
    "        continue\n",
    "    if l[i] >=10 :\n",
    "        break\n",
    "else :\n",
    "    print(\"sab theek hai\")\n"
   ]
  },
  {
   "cell_type": "code",
   "execution_count": 33,
   "metadata": {},
   "outputs": [
    {
     "name": "stdout",
     "output_type": "stream",
     "text": [
      "value of c = 1\n",
      "value of c = 3\n",
      "value of c = 5\n",
      "value of c = 7\n",
      "value of c = 9\n",
      "heelo world\n"
     ]
    }
   ],
   "source": [
    "c=1\n",
    "while c<=10 :\n",
    "    if c%2==0:\n",
    "        c+=1\n",
    "        continue\n",
    "    print(\"value of c =\",c)\n",
    "    c+=1\n",
    "else :\n",
    "    print(\"heelo world\")\n",
    "   "
   ]
  },
  {
   "cell_type": "code",
   "execution_count": 3,
   "metadata": {},
   "outputs": [
    {
     "name": "stdout",
     "output_type": "stream",
     "text": [
      "enter your guess [1] :\n"
     ]
    },
    {
     "ename": "ValueError",
     "evalue": "invalid literal for int() with base 10: ''",
     "output_type": "error",
     "traceback": [
      "\u001b[1;31m---------------------------------------------------------------------------\u001b[0m",
      "\u001b[1;31mValueError\u001b[0m                                Traceback (most recent call last)",
      "\u001b[1;32m<ipython-input-3-4b6496344350>\u001b[0m in \u001b[0;36m<module>\u001b[1;34m\u001b[0m\n\u001b[0;32m      4\u001b[0m \u001b[0mchance\u001b[0m\u001b[1;33m=\u001b[0m\u001b[1;36m1\u001b[0m\u001b[1;33m\u001b[0m\u001b[1;33m\u001b[0m\u001b[0m\n\u001b[0;32m      5\u001b[0m \u001b[1;32mwhile\u001b[0m \u001b[0mchance\u001b[0m\u001b[1;33m<=\u001b[0m\u001b[1;36m5\u001b[0m \u001b[1;33m:\u001b[0m\u001b[1;33m\u001b[0m\u001b[1;33m\u001b[0m\u001b[0m\n\u001b[1;32m----> 6\u001b[1;33m     \u001b[0muser\u001b[0m\u001b[1;33m=\u001b[0m\u001b[0mint\u001b[0m\u001b[1;33m(\u001b[0m\u001b[0minput\u001b[0m\u001b[1;33m(\u001b[0m\u001b[1;34mf\"enter your guess [{chance}] :\"\u001b[0m\u001b[1;33m)\u001b[0m\u001b[1;33m)\u001b[0m\u001b[1;33m\u001b[0m\u001b[1;33m\u001b[0m\u001b[0m\n\u001b[0m\u001b[0;32m      7\u001b[0m     \u001b[1;32mif\u001b[0m \u001b[0muser\u001b[0m\u001b[1;33m>\u001b[0m\u001b[1;36m50\u001b[0m \u001b[1;32mor\u001b[0m \u001b[0muser\u001b[0m\u001b[1;33m<\u001b[0m\u001b[1;36m1\u001b[0m\u001b[1;33m:\u001b[0m\u001b[1;33m\u001b[0m\u001b[1;33m\u001b[0m\u001b[0m\n\u001b[0;32m      8\u001b[0m         \u001b[0mprint\u001b[0m\u001b[1;33m(\u001b[0m\u001b[1;34m\"error= chosse btw 1-50 \"\u001b[0m\u001b[1;33m)\u001b[0m\u001b[1;33m\u001b[0m\u001b[1;33m\u001b[0m\u001b[0m\n",
      "\u001b[1;31mValueError\u001b[0m: invalid literal for int() with base 10: ''"
     ]
    }
   ],
   "source": [
    "\n",
    "from random import randint\n",
    "com=randint(1,50)\n",
    "chance=1\n",
    "while chance<=5 :\n",
    "    user=int(input(f\"enter your guess [{chance}] :\"))\n",
    "    if user>50 or user<1:\n",
    "        print(\"error= chosse btw 1-50 \")\n",
    "        continue\n",
    "    if user>com :\n",
    "        print(\"hint=chosse low\")\n",
    "    elif user<com :\n",
    "        print(\"hint=chosse high\")\n",
    "    else:\n",
    "        print(\"you won\")\n",
    "        break\n",
    "        change+=1\n",
    "else :\n",
    "    print(\"you such a loser\")\n",
    "\n"
   ]
  },
  {
   "cell_type": "code",
   "execution_count": 12,
   "metadata": {},
   "outputs": [
    {
     "name": "stdout",
     "output_type": "stream",
     "text": [
      "enter the no.11\n",
      "11\t\t 22\t\t 33\t\t 44\t\t 55\t\t 66\t\t 77\t\t 88\t\t 99\t\t 110\t\t 121\t\t "
     ]
    }
   ],
   "source": [
    "num=int(input(\"enter the no.\"))\n",
    "c=1\n",
    "while c<=num :\n",
    "    print(c*num,end='\\t\\t ')\n",
    "    c=c+1"
   ]
  },
  {
   "cell_type": "markdown",
   "metadata": {},
   "source": []
  },
  {
   "cell_type": "code",
   "execution_count": null,
   "metadata": {},
   "outputs": [],
   "source": []
  }
 ],
 "metadata": {
  "kernelspec": {
   "display_name": "Python 3",
   "language": "python",
   "name": "python3"
  },
  "language_info": {
   "codemirror_mode": {
    "name": "ipython",
    "version": 3
   },
   "file_extension": ".py",
   "mimetype": "text/x-python",
   "name": "python",
   "nbconvert_exporter": "python",
   "pygments_lexer": "ipython3",
   "version": "3.7.1"
  }
 },
 "nbformat": 4,
 "nbformat_minor": 2
}
