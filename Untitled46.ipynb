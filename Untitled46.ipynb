{
 "cells": [
  {
   "cell_type": "code",
   "execution_count": null,
   "metadata": {},
   "outputs": [],
   "source": [
    "from time import sleep\n",
    "from random import choice\n",
    "l=[0.2,0.3,0.4,0.5,1.2,2,3]\n",
    "def hello(name):\n",
    "    for var in range(5):\n",
    "        print('hello world',name)\n",
    "        sleep(choice(l))\n",
    "\n",
    "def bye(fname,lname):\n",
    "    for var in range(5):\n",
    "        print('bye world',fname,lname)\n",
    "        sleep(choice(l))\n",
    "        "
   ]
  },
  {
   "cell_type": "code",
   "execution_count": null,
   "metadata": {},
   "outputs": [],
   "source": [
    "import threading"
   ]
  },
  {
   "cell_type": "code",
   "execution_count": null,
   "metadata": {},
   "outputs": [],
   "source": [
    "th1=threading.Thread(target=hello,args=('sankar',))\n",
    "th2=threading.Thread(target=bye,args=('sanskar','sharma'))"
   ]
  },
  {
   "cell_type": "code",
   "execution_count": null,
   "metadata": {},
   "outputs": [],
   "source": [
    "th1.start()\n",
    "th2.start()\n",
    "\n",
    "th1.join()\n",
    "th2.join()"
   ]
  },
  {
   "cell_type": "code",
   "execution_count": null,
   "metadata": {},
   "outputs": [
    {
     "name": "stdout",
     "output_type": "stream",
     "text": [
      "connected to 192.168.43.142:5555\n",
      "server--->hii\n"
     ]
    }
   ],
   "source": [
    "def send(client):\n",
    "    while True :\n",
    "        msg=input(\"server--->\")\n",
    "        client.send(msg.encode())\n",
    "        if msg.lower().strip()=='bye':\n",
    "            client.close()\n",
    "            print(\"connection closed by server\")\n",
    "\n",
    "            \n",
    "def recv(client):\n",
    "    while True:\n",
    "        msg=client.recv(1024).decode()\n",
    "        msg=(f\"client-->{msg}\")\n",
    "        print(msg.rjust(50))\n",
    "        if msg.lower().strip()=='bye':\n",
    "            client.close()\n",
    "            print(\"connection closed by client\")\n",
    "            break\n",
    "\n",
    "import socket\n",
    "import threading\n",
    "server=socket.socket()\n",
    "host='192.168.43.142'\n",
    "port=5555\n",
    "server.connect((host,port))\n",
    "\n",
    "print(f\"connected to {host}:{port}\")\n",
    "\n",
    "msg_send=threading.Thread(target=send,args=(server,))\n",
    "msg_recv=threading.Thread(target=recv,args=(server,))\n",
    "\n",
    "msg_send.start()\n",
    "msg_recv.start()\n",
    "msg_send.join()\n",
    "msg_recv.join()\n"
   ]
  },
  {
   "cell_type": "code",
   "execution_count": null,
   "metadata": {},
   "outputs": [],
   "source": [
    "socket.gethostname()\n"
   ]
  },
  {
   "cell_type": "code",
   "execution_count": null,
   "metadata": {},
   "outputs": [],
   "source": [
    "socket.gethostbyname(socket.gethostname())"
   ]
  },
  {
   "cell_type": "code",
   "execution_count": null,
   "metadata": {},
   "outputs": [],
   "source": []
  }
 ],
 "metadata": {
  "kernelspec": {
   "display_name": "Python 3",
   "language": "python",
   "name": "python3"
  },
  "language_info": {
   "codemirror_mode": {
    "name": "ipython",
    "version": 3
   },
   "file_extension": ".py",
   "mimetype": "text/x-python",
   "name": "python",
   "nbconvert_exporter": "python",
   "pygments_lexer": "ipython3",
   "version": "3.7.1"
  }
 },
 "nbformat": 4,
 "nbformat_minor": 2
}
