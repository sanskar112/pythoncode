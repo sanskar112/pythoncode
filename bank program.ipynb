{
 "cells": [
  {
   "cell_type": "code",
   "execution_count": 2,
   "metadata": {},
   "outputs": [],
   "source": [
    "data={ \n",
    "    1001 :{'name':'sanskar','password':'chalbeja','bal':12454},\n",
    "    1002 :{'name':'john','password':'redhat','bal':400000},\n",
    "    1003 :{'name':'nikita','password':'haha','bal':213344},\n",
    "     \n",
    "     }\n",
    "def bank(old_func):\n",
    "    def work(*aegs,**kwargs):\n",
    "        print(\"*\"*50)\n",
    "        print(\"*\"*50)\n",
    "        print()\n",
    "        old_func(*args,**kwargs)\n",
    "        print()\n",
    "        print(\"*\"*50)\n",
    "        print(\"*\"*50)\n",
    "        \n",
    "from getpass import getpass\n",
    "def password_verify():\n",
    "    password=getpass(\"enter your password\")\n",
    "    password_copy=getpass(\"conform password\")\n",
    "    if password==password_copy:\n",
    "        return password\n",
    "    print(\"\\n password does match try again later\")\n",
    "    return  password_verify()\n",
    "@bank\n",
    "def signup():\n",
    "    print(\"\\n\\t welcome to signup service\")\n",
    "    name=input(\"enter your name:\")\n",
    "    password=password_verify()\n",
    "    bal=float(input(\"enter your bal :\"))\n",
    "    old_acc=max(data.key())\n",
    "    new_acc=old_acc+1\n",
    "    data[new_acc]={'name':name,'passsowd':password,'bal':bal}\n",
    "    slepp(1)\n",
    "    print(\"\\n\\n CONGURATULATION !!! YOUR  ACCOUNT IS OPENDED\")\n",
    "    print(f\"\\n\\n write down your acc num {new_acc} and use it  in login \")\n",
    "    print(\"\\n\\n ........redirecting to main menu......\")\n",
    "    sleep(randint(1,3))\n",
    "    main()\n",
    "        "
   ]
  },
  {
   "cell_type": "code",
   "execution_count": 10,
   "metadata": {},
   "outputs": [],
   "source": [
    "def bank(old_func):\n",
    "    def work(*aegs,**kwargs):\n",
    "        print(\"*\"*50)\n",
    "        print(\"*\"*50)\n",
    "        print()\n",
    "        old_func(*args,**kwargs)\n",
    "        print()\n",
    "        print(\"*\"*50)\n",
    "        print(\"*\"*50)\n",
    "        \n",
    "        "
   ]
  },
  {
   "cell_type": "code",
   "execution_count": 11,
   "metadata": {},
   "outputs": [],
   "source": [
    "from getpass import getpass\n",
    "def password_verify():\n",
    "    password=getpass(\"enter your password\")\n",
    "    password_copy=getpass(\"conform password\")\n",
    "    if password==password_copy:\n",
    "        return password\n",
    "    print(\"\\n password does match try again later\")\n",
    "    return  password_verify()\n",
    "@bank\n",
    "def signup():\n",
    "    print(\"\\n\\t welcome to signup service\")\n",
    "    name=input(\"enter your name:\")\n",
    "    password=password_verify()\n",
    "    bal=float(input(\"enter your bal :\"))\n",
    "    old_acc=max(data.key())\n",
    "    new_acc=old_acc+1\n",
    "    data[new_acc]={'name':name,'passsowd':password,'bal':bal}\n",
    "    slepp(1)\n",
    "    print(\"\\n\\n CONGURATULATION !!! YOUR  ACCOUNT IS OPENDED\")\n",
    "    print(f\"\\n\\n write down your acc num {new_acc} and use it  in login \")\n",
    "    print(\"\\n\\n ........redirecting to main menu......\")\n",
    "    sleep(randint(1,3))\n",
    "    main()"
   ]
  },
  {
   "cell_type": "code",
   "execution_count": 14,
   "metadata": {},
   "outputs": [],
   "source": [
    "from time import sleep \n",
    "from random import randint\n",
    "@bank\n",
    "def main():\n",
    "    print(\"welcome to my bank service\")\n",
    "    print('1. signup')\n",
    "    print('2. login')\n",
    "    print('3. exit')\n",
    "    ch=int(input(\"enter you choice (1,3) :\"))\n",
    "    if ch>3 and ch<1:\n",
    "        print(\"\\n........invalid choice try again.....\")\n",
    "        sleep(randint(1,3))\n",
    "        main()\n",
    "    elif ch==1:\n",
    "        signup()\n",
    "    elif ch==2:\n",
    "        login()\n",
    "    else :\n",
    "        print(\"\\n\\n ....... thanks for using come again later\")\n",
    "    main()"
   ]
  },
  {
   "cell_type": "code",
   "execution_count": null,
   "metadata": {},
   "outputs": [],
   "source": []
  }
 ],
 "metadata": {
  "kernelspec": {
   "display_name": "Python 3",
   "language": "python",
   "name": "python3"
  },
  "language_info": {
   "codemirror_mode": {
    "name": "ipython",
    "version": 3
   },
   "file_extension": ".py",
   "mimetype": "text/x-python",
   "name": "python",
   "nbconvert_exporter": "python",
   "pygments_lexer": "ipython3",
   "version": "3.7.1"
  }
 },
 "nbformat": 4,
 "nbformat_minor": 2
}
