{
 "cells": [
  {
   "cell_type": "code",
   "execution_count": 13,
   "metadata": {},
   "outputs": [
    {
     "name": "stdout",
     "output_type": "stream",
     "text": [
      "('start \\n'\n",
      " '      login :\\n'\n",
      " '         credit\\n'\n",
      " '          debit\\n'\n",
      " '            check bal.\\n'\n",
      " '              logout\\n'\n",
      " '    sign in :\\n'\n",
      " '             user name\\n'\n",
      " \"'\\n\"\n",
      " '             password \\n'\n",
      " \"'\\n\"\n",
      " '              bal.\\n'\n",
      " \"'\\n\"\n",
      " '            log in\\n'\n",
      " \"'\\n\"\n",
      " '            exit')\n"
     ]
    }
   ],
   "source": [
    "from pprint import pprint\n",
    "pprint(\"\"\"start \n",
    "      login :\n",
    "         credit\n",
    "          debit\n",
    "            check bal.\n",
    "              logout\n",
    "    sign in :\n",
    "             user name\\n'\n",
    "             password \\n'\n",
    "              bal.\\n'\n",
    "            log in\\n'\n",
    "            exit\"\"\")\n"
   ]
  },
  {
   "cell_type": "code",
   "execution_count": 8,
   "metadata": {},
   "outputs": [
    {
     "name": "stdout",
     "output_type": "stream",
     "text": [
      "Pretty printing has been turned ON\n"
     ]
    }
   ],
   "source": [
    "pprint()"
   ]
  },
  {
   "cell_type": "code",
   "execution_count": null,
   "metadata": {},
   "outputs": [],
   "source": [
    "bank={1001:{'name':'sanskar','password':'redhat','bank bal':2300},\n",
    "      1002:{'name':'prateek','passeord':'python','bank bal':242134}     \n",
    "     }   \n",
    "def mainpage():\n",
    "    print(\"\"\"1 for login,\n",
    "            2 for signup,\n",
    "            3 for exit\"\"\"\n",
    "         )\n",
    "    choice=int(input(\"enter from \"1/2/3)\n",
    "    l=[1,2,3]\n",
    "    if choice in l:\n",
    "               pass:\n",
    "    else 1\n",
    "               \n",
    "        \n"
   ]
  }
 ],
 "metadata": {
  "kernelspec": {
   "display_name": "Python 3",
   "language": "python",
   "name": "python3"
  },
  "language_info": {
   "codemirror_mode": {
    "name": "ipython",
    "version": 3
   },
   "file_extension": ".py",
   "mimetype": "text/x-python",
   "name": "python",
   "nbconvert_exporter": "python",
   "pygments_lexer": "ipython3",
   "version": "3.7.1"
  }
 },
 "nbformat": 4,
 "nbformat_minor": 2
}
