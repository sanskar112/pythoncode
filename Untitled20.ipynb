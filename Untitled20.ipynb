{
 "cells": [
  {
   "cell_type": "code",
   "execution_count": 2,
   "metadata": {},
   "outputs": [
    {
     "name": "stdout",
     "output_type": "stream",
     "text": [
      "enter you no.121\n",
      "enter the no.242\n"
     ]
    }
   ],
   "source": [
    "from random import randint\n",
    "comp=randint(1,50)\n",
    "n=1\n",
    "while n<=5 :\n",
    "    num=int(input(\"enter you no.\"))\n",
    "    if(num==comp):\n",
    "        print(\"cong. you win\")\n",
    "    else :\n",
    "        if num<comp:\n",
    "            print(\"thinlk greater no.\")\n",
    "            n=n+1\n",
    "        num=int(input(\"enter the no.\"))\n",
    "        break \n",
    "else :\n",
    "    print(f\"you such a loser and the no is {comp} \")\n",
    "            "
   ]
  },
  {
   "cell_type": "code",
   "execution_count": 3,
   "metadata": {},
   "outputs": [
    {
     "ename": "SyntaxError",
     "evalue": "unexpected EOF while parsing (<ipython-input-3-b73bfe07be3b>, line 20)",
     "output_type": "error",
     "traceback": [
      "\u001b[1;36m  File \u001b[1;32m\"<ipython-input-3-b73bfe07be3b>\"\u001b[1;36m, line \u001b[1;32m20\u001b[0m\n\u001b[1;33m    \u001b[0m\n\u001b[1;37m    ^\u001b[0m\n\u001b[1;31mSyntaxError\u001b[0m\u001b[1;31m:\u001b[0m unexpected EOF while parsing\n"
     ]
    }
   ],
   "source": [
    "note={2000:0,500:0,200:0,100:0,50:0,20:0,10:0,5:0,2:0,1:0}\n",
    "amount=int(input(\"enter the amomunt \"))\n",
    "count=[]\n",
    "index=0\n",
    "while amount>item :\n",
    "                                                                                  \n",
    "                                                                             \n",
    "                                                      \n",
    "                                      \n",
    "                             \n",
    "                        \n",
    "                                                    \n",
    "                                                   \n",
    "                                            \n",
    "                                   \n",
    "                            \n",
    "                        \n",
    "                    \n",
    "                \n",
    "                "
   ]
  },
  {
   "cell_type": "code",
   "execution_count": null,
   "metadata": {},
   "outputs": [],
   "source": [
    "print(\"hello world\",\"kya kar raha hai\",\"chal badiya\",\"bye world\",sep='\\n')"
   ]
  },
  {
   "cell_type": "code",
   "execution_count": null,
   "metadata": {},
   "outputs": [],
   "source": [
    "l=[1,3,3,'hi']\n",
    "print(*l,sep='\\n')\n",
    "\n"
   ]
  },
  {
   "cell_type": "code",
   "execution_count": null,
   "metadata": {},
   "outputs": [],
   "source": []
  },
  {
   "cell_type": "code",
   "execution_count": null,
   "metadata": {},
   "outputs": [],
   "source": [
    "from time import sleep \n",
    "c=1\n",
    "while c<=10:\n",
    "    print(c)\n",
    "    sleep(1)\n",
    "    c=c-1\n",
    "else:\n",
    "    print(\"nhi\")"
   ]
  },
  {
   "cell_type": "code",
   "execution_count": 4,
   "metadata": {},
   "outputs": [
    {
     "name": "stdout",
     "output_type": "stream",
     "text": [
      "*\n",
      "**\n",
      "***\n",
      "****\n",
      "*****\n",
      "******\n",
      "*******\n",
      "********\n",
      "*********\n",
      "**********\n"
     ]
    }
   ],
   "source": [
    "c=1\n",
    "while c<=10  :\n",
    "    print(\"*\"*c)\n",
    "    c=c+1      "
   ]
  },
  {
   "cell_type": "code",
   "execution_count": 9,
   "metadata": {},
   "outputs": [
    {
     "name": "stdout",
     "output_type": "stream",
     "text": [
      "9**c\n",
      "8**c\n",
      "7**c\n",
      "6**c\n",
      "5**c\n",
      "4**c\n",
      "3**c\n",
      "2**c\n",
      "1**c\n"
     ]
    }
   ],
   "source": [
    "c=9\n",
    "while c>=1 :\n",
    "    print(f\"{c}**c\")\n",
    "    c=c-1"
   ]
  },
  {
   "cell_type": "code",
   "execution_count": 15,
   "metadata": {},
   "outputs": [
    {
     "name": "stdout",
     "output_type": "stream",
     "text": [
      "[5, 10, 6]\n",
      "[1, 5, 9, 10]\n",
      "[9, 5, 1]\n"
     ]
    }
   ],
   "source": [
    "l=[5,10,6]\n",
    "print(l)\n",
    "l.remove(6)\n",
    "l.append(9)\n",
    "l.append(1)\n",
    "l.sort()\n",
    "print(l)\n",
    "l.pop()\n",
    "l.reverse()\n",
    "print(l)"
   ]
  },
  {
   "cell_type": "code",
   "execution_count": null,
   "metadata": {},
   "outputs": [],
   "source": [
    "l=[]\n",
    "l=int(input(\"enter the no.\"))\n",
    "while n"
   ]
  },
  {
   "cell_type": "code",
   "execution_count": null,
   "metadata": {},
   "outputs": [],
   "source": []
  }
 ],
 "metadata": {
  "kernelspec": {
   "display_name": "Python 3",
   "language": "python",
   "name": "python3"
  }
 },
 "nbformat": 4,
 "nbformat_minor": 2
}
