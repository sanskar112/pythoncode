{
 "cells": [
  {
   "cell_type": "code",
   "execution_count": 15,
   "metadata": {},
   "outputs": [],
   "source": [
    "bank={\n",
    "    110010:{'name':'sam',\n",
    "            'password':'@123',\n",
    "            'bal':74987},\n",
    "    110011:{'name':'rahul',\n",
    "            'password':'nhibtaraha',\n",
    "            'bal':1111331},\n",
    "    110012:{'name':'nitin',\n",
    "            'password':'kam kar',\n",
    "            'bal':12121212},\n",
    "    110013:{'name':'preteek',\n",
    "            'password':'abcdefg',\n",
    "            'bal':1311313},\n",
    "}"
   ]
  },
  {
   "cell_type": "code",
   "execution_count": 19,
   "metadata": {},
   "outputs": [
    {
     "data": {
      "text/plain": [
       "{110010: {'name': 'sam', 'password': '@123', 'bal': 74987},\n",
       " 110011: {'name': 'rahul', 'password': 'nhibtaraha', 'bal': 1111331},\n",
       " 110012: {'name': 'nitin', 'password': 'kam kar', 'bal': 12121212},\n",
       " 110013: {'name': 'preteek', 'password': 'abcdefg', 'bal': 1311313}}"
      ]
     },
     "execution_count": 19,
     "metadata": {},
     "output_type": "execute_result"
    }
   ],
   "source": [
    "bank"
   ]
  },
  {
   "cell_type": "code",
   "execution_count": 20,
   "metadata": {},
   "outputs": [
    {
     "data": {
      "text/plain": [
       "{'name': 'sam', 'password': '@123', 'bal': 74987}"
      ]
     },
     "execution_count": 20,
     "metadata": {},
     "output_type": "execute_result"
    }
   ],
   "source": [
    "bank[110010]"
   ]
  },
  {
   "cell_type": "code",
   "execution_count": null,
   "metadata": {},
   "outputs": [],
   "source": []
  },
  {
   "cell_type": "code",
   "execution_count": null,
   "metadata": {},
   "outputs": [],
   "source": []
  },
  {
   "cell_type": "code",
   "execution_count": null,
   "metadata": {},
   "outputs": [],
   "source": []
  }
 ],
 "metadata": {
  "kernelspec": {
   "display_name": "Python 3",
   "language": "python",
   "name": "python3"
  },
  "language_info": {
   "codemirror_mode": {
    "name": "ipython",
    "version": 3
   },
   "file_extension": ".py",
   "mimetype": "text/x-python",
   "name": "python",
   "nbconvert_exporter": "python",
   "pygments_lexer": "ipython3",
   "version": "3.7.1"
  }
 },
 "nbformat": 4,
 "nbformat_minor": 2
}
