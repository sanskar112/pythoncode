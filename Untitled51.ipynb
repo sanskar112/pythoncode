{
 "cells": [
  {
   "cell_type": "code",
   "execution_count": 8,
   "metadata": {},
   "outputs": [],
   "source": [
    "names=[]\n",
    "class student:\n",
    "    total=0\n",
    "    id=1000\n",
    "    def __init__(self,name,email,phno,course,fees,cuurent):\n",
    "        global names\n",
    "        self.id=student.id+1\n",
    "        student.id=student.id +1\n",
    "        self.name=name\n",
    "        self.email=email\n",
    "        self.phno=phno\n",
    "        self.course=course\n",
    "        self.fees=fees\n",
    "        self.due=fees-cuurent\n",
    "        student.total+=1\n",
    "        names.append(name)\n",
    "    def info(self):\n",
    "        print(\"name\",self.name)\n",
    "        print(\"email\",self.email)\n",
    "        print(\"phno\",self.phno)\n",
    "        print(\"course\",self.course)\n",
    "        print(\"fees\",self.fees)\n",
    "        print(\"due\",self.due)\n",
    "    def __str__(self):\n",
    "        return self.name\n",
    "    def update_name(self,new_name):\n",
    "        self.name=new_name\n",
    "        print(\"update name successfully\")\n",
    "    def update_email(self,new_email):\n",
    "        self.email=new_email\n",
    "        print(\"update email successfully\")\n",
    "    def update_num(self,new_num):\n",
    "        self.num=new_num\n",
    "        print(\"update num successfully\")\n",
    "    def __del__(self):\n",
    "        student.total-=1\n",
    "        \n",
    "    def __repr__(self):\n",
    "        return self.name"
   ]
  },
  {
   "cell_type": "code",
   "execution_count": 9,
   "metadata": {},
   "outputs": [],
   "source": [
    "p1=student(\"name\",\"sanskarsharama@gmail.com \",'939234938','python',45000,1500)"
   ]
  },
  {
   "cell_type": "code",
   "execution_count": 10,
   "metadata": {},
   "outputs": [
    {
     "name": "stdout",
     "output_type": "stream",
     "text": [
      "name\n"
     ]
    }
   ],
   "source": [
    "print(p1)"
   ]
  },
  {
   "cell_type": "code",
   "execution_count": 11,
   "metadata": {},
   "outputs": [
    {
     "ename": "NameError",
     "evalue": "name 'email' is not defined",
     "output_type": "error",
     "traceback": [
      "\u001b[1;31m---------------------------------------------------------------------------\u001b[0m",
      "\u001b[1;31mNameError\u001b[0m                                 Traceback (most recent call last)",
      "\u001b[1;32m<ipython-input-11-88b3198a6635>\u001b[0m in \u001b[0;36m<module>\u001b[1;34m\u001b[0m\n\u001b[1;32m----> 1\u001b[1;33m \u001b[0mprint\u001b[0m\u001b[1;33m(\u001b[0m\u001b[0mp1\u001b[0m\u001b[1;33m(\u001b[0m\u001b[0memail\u001b[0m\u001b[1;33m)\u001b[0m\u001b[1;33m)\u001b[0m\u001b[1;33m\u001b[0m\u001b[1;33m\u001b[0m\u001b[0m\n\u001b[0m",
      "\u001b[1;31mNameError\u001b[0m: name 'email' is not defined"
     ]
    }
   ],
   "source": [
    "print(p1(email))"
   ]
  },
  {
   "cell_type": "code",
   "execution_count": null,
   "metadata": {},
   "outputs": [],
   "source": []
  }
 ],
 "metadata": {
  "kernelspec": {
   "display_name": "Python 3",
   "language": "python",
   "name": "python3"
  },
  "language_info": {
   "codemirror_mode": {
    "name": "ipython",
    "version": 3
   },
   "file_extension": ".py",
   "mimetype": "text/x-python",
   "name": "python",
   "nbconvert_exporter": "python",
   "pygments_lexer": "ipython3",
   "version": "3.7.1"
  }
 },
 "nbformat": 4,
 "nbformat_minor": 2
}
