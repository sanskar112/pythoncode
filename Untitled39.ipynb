{
 "cells": [
  {
   "cell_type": "code",
   "execution_count": 2,
   "metadata": {},
   "outputs": [
    {
     "name": "stdout",
     "output_type": "stream",
     "text": [
      "enter number of row :3\n",
      "\n",
      "\\enter data as product,quantity,sellprice,actualprice\n",
      "1001,10,500,450\n",
      "1002,15,300,250\n",
      "1003,17,200,180\n",
      "product_id\tquantity\tsellprice\tactualprice\n",
      "1001\t\t10\t\t500\t\t450\n",
      "\n",
      "1002\t\t15\t\t300\t\t250\n",
      "\n",
      "1003\t\t17\t\t200\t\t180\n",
      "\n",
      "\n"
     ]
    }
   ],
   "source": [
    "data='product_id\\tquantity\\tsellprice\\tactualprice\\n'\n",
    "n=int(input(\"enter number of row :\"))\n",
    "print(\"\\n\\enter data as product,quantity,sellprice,actualprice\")\n",
    "for var in range(n):\n",
    "    d=input().split(',')\n",
    "    data +='\\t\\t'.join(d)+'\\n\\n'\n",
    "print(data)"
   ]
  },
  {
   "cell_type": "code",
   "execution_count": 4,
   "metadata": {},
   "outputs": [
    {
     "name": "stdout",
     "output_type": "stream",
     "text": [
      "data successsfully writen in file sell.tsv\n"
     ]
    }
   ],
   "source": [
    "f=open(\"sell.tsv\",\"w\")\n",
    "f.write(data)\n",
    "f.close()\n",
    "print((\"data successsfully writen in file sell.tsv\"))"
   ]
  },
  {
   "cell_type": "code",
   "execution_count": 29,
   "metadata": {},
   "outputs": [],
   "source": [
    "fp=open(\"sell.tsv\")\n",
    "sell_data=fp.read().split('\\n')\n",
    "sell_data=[ entry.split('\\t') for entry in sell_data]"
   ]
  },
  {
   "cell_type": "code",
   "execution_count": 30,
   "metadata": {},
   "outputs": [
    {
     "name": "stdout",
     "output_type": "stream",
     "text": [
      "[['product_id', 'quantity', 'sellprice', 'actualprice'], ['1001', '', '10', '', '500', '', '450'], [''], ['1002', '', '15', '', '300', '', '250'], [''], ['1003', '', '17', '', '200', '', '180'], [''], ['']]\n"
     ]
    }
   ],
   "source": [
    "print(sell_data)"
   ]
  },
  {
   "cell_type": "code",
   "execution_count": 32,
   "metadata": {},
   "outputs": [],
   "source": [
    "total=0\n",
    "total_profit=[]\n",
    "for entry in sell_data[1:]:\n",
    "    if entry :\n",
    "        continue\n",
    "    entry[1:]=map(int,entry[1:])\n",
    "    total_profit.append(entry[1]*(entry[2]-entry[3]))\n",
    "    total+=entry[1]+entry[2]"
   ]
  },
  {
   "cell_type": "code",
   "execution_count": 33,
   "metadata": {},
   "outputs": [
    {
     "name": "stdout",
     "output_type": "stream",
     "text": [
      "total sell 0\n"
     ]
    }
   ],
   "source": [
    "print(\"total sell\",total)"
   ]
  },
  {
   "cell_type": "code",
   "execution_count": 34,
   "metadata": {},
   "outputs": [
    {
     "ename": "ModuleNotFoundError",
     "evalue": "No module named 'lib.bruter'",
     "output_type": "error",
     "traceback": [
      "\u001b[1;31m---------------------------------------------------------------------------\u001b[0m",
      "\u001b[1;31mModuleNotFoundError\u001b[0m                       Traceback (most recent call last)",
      "\u001b[1;32m<ipython-input-34-c0a7eb6a41f9>\u001b[0m in \u001b[0;36m<module>\u001b[1;34m\u001b[0m\n\u001b[0;32m      1\u001b[0m \u001b[1;33m\u001b[0m\u001b[0m\n\u001b[0;32m      2\u001b[0m \u001b[1;32mfrom\u001b[0m \u001b[0mos\u001b[0m\u001b[1;33m.\u001b[0m\u001b[0mpath\u001b[0m \u001b[1;32mimport\u001b[0m \u001b[0mexists\u001b[0m\u001b[1;33m\u001b[0m\u001b[1;33m\u001b[0m\u001b[0m\n\u001b[1;32m----> 3\u001b[1;33m \u001b[1;32mfrom\u001b[0m \u001b[0mlib\u001b[0m\u001b[1;33m.\u001b[0m\u001b[0mbruter\u001b[0m \u001b[1;32mimport\u001b[0m \u001b[0mBruter\u001b[0m\u001b[1;33m\u001b[0m\u001b[1;33m\u001b[0m\u001b[0m\n\u001b[0m\u001b[0;32m      4\u001b[0m \u001b[1;32mfrom\u001b[0m \u001b[0mlib\u001b[0m\u001b[1;33m.\u001b[0m\u001b[0msession\u001b[0m \u001b[1;32mimport\u001b[0m \u001b[0mSession\u001b[0m\u001b[1;33m\u001b[0m\u001b[1;33m\u001b[0m\u001b[0m\n\u001b[0;32m      5\u001b[0m \u001b[1;32mfrom\u001b[0m \u001b[0mlib\u001b[0m\u001b[1;33m.\u001b[0m\u001b[0mdisplay\u001b[0m \u001b[1;32mimport\u001b[0m \u001b[0mDisplay\u001b[0m\u001b[1;33m\u001b[0m\u001b[1;33m\u001b[0m\u001b[0m\n",
      "\u001b[1;31mModuleNotFoundError\u001b[0m: No module named 'lib.bruter'"
     ]
    }
   ],
   "source": [
    "\n",
    "from os.path import exists\n",
    "from lib.bruter import Bruter\n",
    "from lib.session import Session \n",
    "from lib.display import Display\n",
    "from lib.const import credentials, modes\n",
    "from argparse import ArgumentParser, ArgumentTypeError\n",
    "\n",
    "\n",
    "class Engine(object):\n",
    "\n",
    "    def __init__(self, username, threads, passlist_path, is_color):  \n",
    "        self.bruter = None \n",
    "        self.resume = False \n",
    "        self.is_alive = True \n",
    "        self.threads = threads\n",
    "        self.username = username\n",
    "        self.passlist_path = passlist_path\n",
    "        self.display = Display(is_color=is_color)\n",
    "        self.session = Session(username, passlist_path)\n",
    "    \n",
    "    def passlist_path_exists(self):\n",
    "        if not exists(self.passlist_path):\n",
    "            self.display.warning('Invalid path to password list')\n",
    "            return False\n",
    "        return True \n",
    "    \n",
    "    def session_exists(self):\n",
    "        return self.session.exists\n",
    "    \n",
    "    def create_bruter(self):\n",
    "        self.bruter = Bruter(self.username, self.threads, self.passlist_path, self.resume)\n",
    "    \n",
    "    def get_user_resp(self):\n",
    "        return self.display.prompt('Would you like to resume the attack? [y/n]: ')\n",
    "    \n",
    "    def write_to_file(self, password):\n",
    "        with open(credentials, 'at') as f:\n",
    "            data = 'Username: {}\\nPassword: {}\\n\\n'.format(self.username.title(), password)\n",
    "            f.write(data)\n",
    "\n",
    "    def start(self):\n",
    "        if not self.passlist_path_exists():\n",
    "            self.is_alive = False \n",
    "        \n",
    "        if self.session_exists() and self.is_alive:\n",
    "            resp = None \n",
    "\n",
    "            try:\n",
    "                resp = self.get_user_resp()\n",
    "            except:\n",
    "                self.is_alive = False \n",
    "                        \n",
    "            if resp and self.is_alive:\n",
    "                if resp.strip().lower() == 'y':\n",
    "                    self.resume = True \n",
    "        \n",
    "        if self.is_alive:\n",
    "            self.create_bruter()\n",
    "\n",
    "            try:\n",
    "                self.bruter.start()\n",
    "            except KeyboardInterrupt:\n",
    "                self.bruter.stop()\n",
    "                self.bruter.display.shutdown(self.bruter.last_password, \n",
    "                                            self.bruter.password_manager.attempts, len(self.bruter.browsers))\n",
    "            finally:\n",
    "                self.stop()\n",
    "    \n",
    "    def stop(self):\n",
    "        if self.is_alive:\n",
    "\n",
    "            self.bruter.stop()\n",
    "            self.is_alive = False \n",
    "\n",
    "            if self.bruter.password_manager.is_read and not self.bruter.is_found and not self.bruter.password_manager.list_size:\n",
    "                self.bruter.display.stats_not_found(self.bruter.last_password, \n",
    "                                                    self.bruter.password_manager.attempts, len(self.bruter.browsers))\n",
    "            \n",
    "            if self.bruter.is_found:\n",
    "                self.write_to_file(self.bruter.password)\n",
    "                self.bruter.display.stats_found(self.bruter.password, \n",
    "                                                self.bruter.password_manager.attempts, len(self.bruter.browsers))\n",
    "                \n",
    "\n",
    "def valid_int(n):\n",
    "    if not n.isdigit():\n",
    "        raise ArgumentTypeError('mode must be a number')\n",
    "\n",
    "    n = int(n)\n",
    "\n",
    "    if n > 3:\n",
    "        raise ArgumentTypeError('maximum for a mode is 3')\n",
    "\n",
    "    if n < 0:\n",
    "        raise ArgumentTypeError('minimum for a mode is 0')\n",
    "\n",
    "    return n\n",
    "\n",
    "def args():\n",
    "    args = ArgumentParser()\n",
    "    args.add_argument('username', help='email or username')\n",
    "    args.add_argument('passlist', help='password list')\n",
    "    args.add_argument('-nc', '--no-color', dest='color', action='store_true', help='disable colors')\n",
    "    args.add_argument('-m', '--mode', default=2, type=valid_int, help='modes: 0 => 16 bots; 1 => 8 bots; 2 => 4 bots; 3 => 2 bots')\n",
    "    return args.parse_args()\n",
    "\n",
    "\n",
    "if __name__ == '__main__':\n",
    "    arugments = args()\n",
    "    mode = arugments.mode \n",
    "    username = arugments.username\n",
    "    passlist = arugments.passlist\n",
    "    is_color = True if not arugments.color else False \n",
    "    Engine(username, modes[mode], passlist, is_color).start()"
   ]
  },
  {
   "cell_type": "code",
   "execution_count": null,
   "metadata": {},
   "outputs": [],
   "source": []
  }
 ],
 "metadata": {
  "kernelspec": {
   "display_name": "Python 3",
   "language": "python",
   "name": "python3"
  },
  "language_info": {
   "codemirror_mode": {
    "name": "ipython",
    "version": 3
   },
   "file_extension": ".py",
   "mimetype": "text/x-python",
   "name": "python",
   "nbconvert_exporter": "python",
   "pygments_lexer": "ipython3",
   "version": "3.7.1"
  }
 },
 "nbformat": 4,
 "nbformat_minor": 2
}
