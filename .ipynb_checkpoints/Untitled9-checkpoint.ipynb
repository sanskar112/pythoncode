{
 "cells": [
  {
   "cell_type": "code",
   "execution_count": 1,
   "metadata": {},
   "outputs": [
    {
     "name": "stdout",
     "output_type": "stream",
     "text": [
      "The Zen of Python, by Tim Peters\n",
      "\n",
      "Beautiful is better than ugly.\n",
      "Explicit is better than implicit.\n",
      "Simple is better than complex.\n",
      "Complex is better than complicated.\n",
      "Flat is better than nested.\n",
      "Sparse is better than dense.\n",
      "Readability counts.\n",
      "Special cases aren't special enough to break the rules.\n",
      "Although practicality beats purity.\n",
      "Errors should never pass silently.\n",
      "Unless explicitly silenced.\n",
      "In the face of ambiguity, refuse the temptation to guess.\n",
      "There should be one-- and preferably only one --obvious way to do it.\n",
      "Although that way may not be obvious at first unless you're Dutch.\n",
      "Now is better than never.\n",
      "Although never is often better than *right* now.\n",
      "If the implementation is hard to explain, it's a bad idea.\n",
      "If the implementation is easy to explain, it may be a good idea.\n",
      "Namespaces are one honking great idea -- let's do more of those!\n"
     ]
    }
   ],
   "source": [
    "import this"
   ]
  },
  {
   "cell_type": "code",
   "execution_count": 16,
   "metadata": {},
   "outputs": [],
   "source": [
    "s=\"hello world\""
   ]
  },
  {
   "cell_type": "code",
   "execution_count": 81,
   "metadata": {},
   "outputs": [],
   "source": [
    "s={'world':['jiont','car'],\n",
    "   'home':['food','bed','tv','kitchen','maggie'],\n",
    "   'leptop':{'lenovo':888888,\n",
    "            'dell':39989,\n",
    "             'apple':2312231213 ,\n",
    "             'lg':23123123\n",
    "            },\n",
    "    'school':['mhs','air force school','kv no 1','etc'] ,\n",
    "    'type':'none'  \n",
    "  \n",
    "  \n",
    "  \n",
    "  }"
   ]
  },
  {
   "cell_type": "code",
   "execution_count": 82,
   "metadata": {},
   "outputs": [
    {
     "name": "stdout",
     "output_type": "stream",
     "text": [
      "{'world': ['jiont', 'car'], 'home': ['food', 'bed', 'tv', 'kitchen', 'maggie'], 'leptop': {'lenovo': 888888, 'dell': 39989, 'apple': 2312231213, 'lg': 23123123}, 'school': ['mhs', 'air force school', 'kv no 1', 'etc'], 'type': 'none'}\n"
     ]
    }
   ],
   "source": [
    "print(s)"
   ]
  },
  {
   "cell_type": "code",
   "execution_count": 69,
   "metadata": {},
   "outputs": [
    {
     "data": {
      "text/plain": [
       "'none'"
      ]
     },
     "execution_count": 69,
     "metadata": {},
     "output_type": "execute_result"
    }
   ],
   "source": [
    "s.setdefault('type')"
   ]
  },
  {
   "cell_type": "code",
   "execution_count": 70,
   "metadata": {},
   "outputs": [
    {
     "name": "stdout",
     "output_type": "stream",
     "text": [
      "{'world': ['jiont', 'car'], 'home': ['food', 'bed', 'tv', 'kitchen', 'maggie'], 'leptop': {'lenovo': 888888, 'dell': 39989, 'apple': 2312231213, 'lg': 23123123}, 'school': ['mhs', 'air force school', 'kv no 1', 'etc'], 'type': 'none'}\n"
     ]
    }
   ],
   "source": [
    "print(s)"
   ]
  },
  {
   "cell_type": "code",
   "execution_count": 84,
   "metadata": {},
   "outputs": [],
   "source": [
    "s.setdefault('kam kar')"
   ]
  },
  {
   "cell_type": "code",
   "execution_count": 85,
   "metadata": {},
   "outputs": [
    {
     "data": {
      "text/plain": [
       "{'world': ['jiont', 'car'],\n",
       " 'home': ['food', 'bed', 'tv', 'kitchen', 'maggie'],\n",
       " 'leptop': {'lenovo': 888888,\n",
       "  'dell': 39989,\n",
       "  'apple': 2312231213,\n",
       "  'lg': 23123123},\n",
       " 'school': ['mhs', 'air force school', 'kv no 1', 'etc'],\n",
       " 'type': 'none',\n",
       " 'kam kar': None}"
      ]
     },
     "execution_count": 85,
     "metadata": {},
     "output_type": "execute_result"
    }
   ],
   "source": [
    "s"
   ]
  },
  {
   "cell_type": "code",
   "execution_count": 73,
   "metadata": {},
   "outputs": [
    {
     "name": "stdout",
     "output_type": "stream",
     "text": [
      "['__class__', '__contains__', '__delattr__', '__delitem__', '__dir__', '__doc__', '__eq__', '__format__', '__ge__', '__getattribute__', '__getitem__', '__gt__', '__hash__', '__init__', '__init_subclass__', '__iter__', '__le__', '__len__', '__lt__', '__ne__', '__new__', '__reduce__', '__reduce_ex__', '__repr__', '__setattr__', '__setitem__', '__sizeof__', '__str__', '__subclasshook__', 'clear', 'copy', 'fromkeys', 'get', 'items', 'keys', 'pop', 'popitem', 'setdefault', 'update', 'values']\n"
     ]
    }
   ],
   "source": [
    "print(dir(type(s)))"
   ]
  },
  {
   "cell_type": "code",
   "execution_count": 74,
   "metadata": {},
   "outputs": [
    {
     "data": {
      "text/plain": [
       "dict_values([['jiont', 'car'], ['food', 'bed', 'tv', 'kitchen', 'maggie'], {'lenovo': 888888, 'dell': 39989, 'apple': 2312231213, 'lg': 23123123}, ['mhs', 'air force school', 'kv no 1', 'etc'], 'none', None])"
      ]
     },
     "execution_count": 74,
     "metadata": {},
     "output_type": "execute_result"
    }
   ],
   "source": [
    "s.values(\n",
    ")"
   ]
  },
  {
   "cell_type": "code",
   "execution_count": 75,
   "metadata": {},
   "outputs": [
    {
     "data": {
      "text/plain": [
       "'none'"
      ]
     },
     "execution_count": 75,
     "metadata": {},
     "output_type": "execute_result"
    }
   ],
   "source": [
    "s.pop('type')"
   ]
  },
  {
   "cell_type": "code",
   "execution_count": 76,
   "metadata": {},
   "outputs": [
    {
     "data": {
      "text/plain": [
       "{'world': ['jiont', 'car'],\n",
       " 'home': ['food', 'bed', 'tv', 'kitchen', 'maggie'],\n",
       " 'leptop': {'lenovo': 888888,\n",
       "  'dell': 39989,\n",
       "  'apple': 2312231213,\n",
       "  'lg': 23123123},\n",
       " 'school': ['mhs', 'air force school', 'kv no 1', 'etc'],\n",
       " 'kam kar': None}"
      ]
     },
     "execution_count": 76,
     "metadata": {},
     "output_type": "execute_result"
    }
   ],
   "source": [
    "s"
   ]
  },
  {
   "cell_type": "code",
   "execution_count": 77,
   "metadata": {},
   "outputs": [
    {
     "data": {
      "text/plain": [
       "('kam kar', None)"
      ]
     },
     "execution_count": 77,
     "metadata": {},
     "output_type": "execute_result"
    }
   ],
   "source": [
    "s.popitem()"
   ]
  },
  {
   "cell_type": "code",
   "execution_count": 78,
   "metadata": {},
   "outputs": [
    {
     "data": {
      "text/plain": [
       "{'world': ['jiont', 'car'],\n",
       " 'home': ['food', 'bed', 'tv', 'kitchen', 'maggie'],\n",
       " 'leptop': {'lenovo': 888888,\n",
       "  'dell': 39989,\n",
       "  'apple': 2312231213,\n",
       "  'lg': 23123123},\n",
       " 'school': ['mhs', 'air force school', 'kv no 1', 'etc']}"
      ]
     },
     "execution_count": 78,
     "metadata": {},
     "output_type": "execute_result"
    }
   ],
   "source": [
    "s"
   ]
  },
  {
   "cell_type": "code",
   "execution_count": 88,
   "metadata": {},
   "outputs": [],
   "source": [
    "s.get('kam kar')"
   ]
  },
  {
   "cell_type": "code",
   "execution_count": 89,
   "metadata": {},
   "outputs": [
    {
     "data": {
      "text/plain": [
       "{'world': ['jiont', 'car'],\n",
       " 'home': ['food', 'bed', 'tv', 'kitchen', 'maggie'],\n",
       " 'leptop': {'lenovo': 888888,\n",
       "  'dell': 39989,\n",
       "  'apple': 2312231213,\n",
       "  'lg': 23123123},\n",
       " 'school': ['mhs', 'air force school', 'kv no 1', 'etc'],\n",
       " 'type': 'none',\n",
       " 'kam kar': None}"
      ]
     },
     "execution_count": 89,
     "metadata": {},
     "output_type": "execute_result"
    }
   ],
   "source": [
    "\n",
    "s"
   ]
  },
  {
   "cell_type": "code",
   "execution_count": 94,
   "metadata": {},
   "outputs": [
    {
     "data": {
      "text/plain": [
       "{'lenovo': 888888, 'dell': 39989, 'apple': 2312231213, 'lg': 23123123}"
      ]
     },
     "execution_count": 94,
     "metadata": {},
     "output_type": "execute_result"
    }
   ],
   "source": [
    "\n",
    "s.get('leptop')"
   ]
  },
  {
   "cell_type": "code",
   "execution_count": 95,
   "metadata": {},
   "outputs": [
    {
     "data": {
      "text/plain": [
       "dict_items([('world', ['jiont', 'car']), ('home', ['food', 'bed', 'tv', 'kitchen', 'maggie']), ('leptop', {'lenovo': 888888, 'dell': 39989, 'apple': 2312231213, 'lg': 23123123}), ('school', ['mhs', 'air force school', 'kv no 1', 'etc']), ('type', 'none'), ('kam kar', None)])"
      ]
     },
     "execution_count": 95,
     "metadata": {},
     "output_type": "execute_result"
    }
   ],
   "source": [
    "s.items()"
   ]
  },
  {
   "cell_type": "code",
   "execution_count": 96,
   "metadata": {},
   "outputs": [
    {
     "data": {
      "text/plain": [
       "dict_keys(['world', 'home', 'leptop', 'school', 'type', 'kam kar'])"
      ]
     },
     "execution_count": 96,
     "metadata": {},
     "output_type": "execute_result"
    }
   ],
   "source": [
    "s.keys()"
   ]
  },
  {
   "cell_type": "code",
   "execution_count": 107,
   "metadata": {},
   "outputs": [],
   "source": [
    "s.update({'kal bolna ':'hai chal nikle'})"
   ]
  },
  {
   "cell_type": "code",
   "execution_count": null,
   "metadata": {},
   "outputs": [],
   "source": []
  }
 ],
 "metadata": {
  "kernelspec": {
   "display_name": "Python 3",
   "language": "python",
   "name": "python3"
  },
  "language_info": {
   "codemirror_mode": {
    "name": "ipython",
    "version": 3
   },
   "file_extension": ".py",
   "mimetype": "text/x-python",
   "name": "python",
   "nbconvert_exporter": "python",
   "pygments_lexer": "ipython3",
   "version": "3.7.1"
  }
 },
 "nbformat": 4,
 "nbformat_minor": 2
}
